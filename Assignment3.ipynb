{
  "nbformat": 4,
  "nbformat_minor": 0,
  "metadata": {
    "colab": {
      "provenance": [],
      "authorship_tag": "ABX9TyNizXxiL1mhiiWU9AtKKlKq",
      "include_colab_link": true
    },
    "kernelspec": {
      "name": "python3",
      "display_name": "Python 3"
    },
    "language_info": {
      "name": "python"
    }
  },
  "cells": [
    {
      "cell_type": "markdown",
      "metadata": {
        "id": "view-in-github",
        "colab_type": "text"
      },
      "source": [
        "<a href=\"https://colab.research.google.com/github/noorsahar001/Assignment3_Python/blob/main/Assignment3.ipynb\" target=\"_parent\"><img src=\"https://colab.research.google.com/assets/colab-badge.svg\" alt=\"Open In Colab\"/></a>"
      ]
    },
    {
      "cell_type": "markdown",
      "source": [
        "#Python Assignment List Tuples  and Methods\n"
      ],
      "metadata": {
        "id": "KwhAZYTSsaNV"
      }
    },
    {
      "cell_type": "markdown",
      "source": [
        "**Basic List Operations**\n",
        "\n",
        "1.Create a list of five numbers and append a new number to it. Print the updated list."
      ],
      "metadata": {
        "id": "l4AzqSQWmycA"
      }
    },
    {
      "cell_type": "code",
      "source": [
        "numbers = [10, 20, 30, 40, 50]\n",
        "numbers.append(60)\n",
        "print(numbers)"
      ],
      "metadata": {
        "colab": {
          "base_uri": "https://localhost:8080/"
        },
        "id": "IKn7pbPLn0E0",
        "outputId": "74554df3-2be0-48d2-fab8-ac021c416e64"
      },
      "execution_count": null,
      "outputs": [
        {
          "output_type": "stream",
          "name": "stdout",
          "text": [
            "[10, 20, 30, 40, 50, 60]\n"
          ]
        }
      ]
    },
    {
      "cell_type": "markdown",
      "source": [
        "2.Extend a list [1, 2, 3] with another list [4, 5, 6]. Print the result.\n"
      ],
      "metadata": {
        "id": "LHHgmMQiogO8"
      }
    },
    {
      "cell_type": "code",
      "source": [
        "list1 = [1, 2, 3]\n",
        "list2 = [4, 5, 6]\n",
        "list1.extend(list2)\n",
        "print(list1)"
      ],
      "metadata": {
        "colab": {
          "base_uri": "https://localhost:8080/"
        },
        "id": "-COpkkc6o8Rk",
        "outputId": "40ddb090-681e-4335-cc39-1715e59b09fa"
      },
      "execution_count": null,
      "outputs": [
        {
          "output_type": "stream",
          "name": "stdout",
          "text": [
            "[1, 2, 3, 4, 5, 6]\n"
          ]
        }
      ]
    },
    {
      "cell_type": "markdown",
      "source": [
        "3.Insert the string \"Python\" at index 2 in the list [\"Java\", \"C++\", \"JavaScript\", \"Ruby\"].\n"
      ],
      "metadata": {
        "id": "eDwfWuimpTji"
      }
    },
    {
      "cell_type": "code",
      "source": [
        "languages = [\"Java\", \"C++\", \"JavaScript\", \"Ruby\"]\n",
        "languages.insert(2, \"Python\")\n",
        "print(languages)"
      ],
      "metadata": {
        "colab": {
          "base_uri": "https://localhost:8080/"
        },
        "id": "jrjZOqQcpiUB",
        "outputId": "6bc2da4b-d1b6-4df6-916f-01ae42c4129c"
      },
      "execution_count": null,
      "outputs": [
        {
          "output_type": "stream",
          "name": "stdout",
          "text": [
            "['Java', 'C++', 'Python', 'JavaScript', 'Ruby']\n"
          ]
        }
      ]
    },
    {
      "cell_type": "markdown",
      "source": [
        "4.Remove the first occurrence of the number 10 from the list [10, 20, 30, 10, 40].\n"
      ],
      "metadata": {
        "id": "hTXMKZd0qXqr"
      }
    },
    {
      "cell_type": "code",
      "source": [
        "numbers_list = [10, 20, 30, 10, 40]\n",
        "numbers_list.remove (10)\n",
        "print(numbers_list)"
      ],
      "metadata": {
        "colab": {
          "base_uri": "https://localhost:8080/"
        },
        "id": "GQ5iEXIeqfTP",
        "outputId": "db162e84-e601-43a0-a08a-acdf4ca867c1"
      },
      "execution_count": null,
      "outputs": [
        {
          "output_type": "stream",
          "name": "stdout",
          "text": [
            "[20, 30, 10, 40]\n"
          ]
        }
      ]
    },
    {
      "cell_type": "markdown",
      "source": [
        "5.Use the pop() method to remove the last element from [100, 200, 300, 400] and print the modified list.\n"
      ],
      "metadata": {
        "id": "T8XQun0orM4Y"
      }
    },
    {
      "cell_type": "code",
      "source": [
        "pop_list = [100, 200, 300, 400]\n",
        "pop_list.pop()\n",
        "print(pop_list)"
      ],
      "metadata": {
        "colab": {
          "base_uri": "https://localhost:8080/"
        },
        "id": "e-utOfUtrUKJ",
        "outputId": "df97ed79-ac80-4e71-8171-ec987ab15060"
      },
      "execution_count": null,
      "outputs": [
        {
          "output_type": "stream",
          "name": "stdout",
          "text": [
            "[100, 200, 300]\n"
          ]
        }
      ]
    },
    {
      "cell_type": "markdown",
      "source": [
        "**Intermediate List Operations**\n",
        "\n",
        "6.Count how many times the number 5 appears in the list [5, 10, 5, 20, 5, 30]."
      ],
      "metadata": {
        "id": "ZAb6TnQusCLg"
      }
    },
    {
      "cell_type": "code",
      "source": [
        "nums_list =[5, 10, 5, 20, 5, 30]\n",
        "print(nums_list.count(5))"
      ],
      "metadata": {
        "colab": {
          "base_uri": "https://localhost:8080/"
        },
        "id": "uGtntpQetJCB",
        "outputId": "e42f0d55-1a81-452a-a708-b58132b37130"
      },
      "execution_count": null,
      "outputs": [
        {
          "output_type": "stream",
          "name": "stdout",
          "text": [
            "3\n"
          ]
        }
      ]
    },
    {
      "cell_type": "markdown",
      "source": [
        "7.Sort the list [9, 1, 8, 3, 5] in ascending and descending order.\n"
      ],
      "metadata": {
        "id": "axe8MdtuuBq7"
      }
    },
    {
      "cell_type": "code",
      "source": [
        "sort_list = [9, 1, 8, 3, 5]\n",
        "sort_list_asc = sorted(sort_list) #ascending order\n",
        "sort_list_desc = sorted(sort_list, reverse=True) #desending order\n",
        "print(sort_list_asc)\n",
        "print(sort_list_desc)"
      ],
      "metadata": {
        "colab": {
          "base_uri": "https://localhost:8080/"
        },
        "id": "laPSv1HsuFsa",
        "outputId": "45b7efcb-2d3e-4479-fe25-333cec040508"
      },
      "execution_count": null,
      "outputs": [
        {
          "output_type": "stream",
          "name": "stdout",
          "text": [
            "[1, 3, 5, 8, 9]\n",
            "[9, 8, 5, 3, 1]\n"
          ]
        }
      ]
    },
    {
      "cell_type": "markdown",
      "source": [
        "8.Reverse the list [“apple”, “banana”, “cherry”] using the reverse() method.\n"
      ],
      "metadata": {
        "id": "eLqBWIVJvt6W"
      }
    },
    {
      "cell_type": "code",
      "source": [
        "fruits = [\"apple\", \"banana\", \"cherry\"]\n",
        "fruits.reverse()\n",
        "print(fruits)"
      ],
      "metadata": {
        "colab": {
          "base_uri": "https://localhost:8080/"
        },
        "id": "8M2aD6b-v7U7",
        "outputId": "546258e0-67e2-441d-cb1b-4993a251e8e1"
      },
      "execution_count": null,
      "outputs": [
        {
          "output_type": "stream",
          "name": "stdout",
          "text": [
            "['cherry', 'banana', 'apple']\n"
          ]
        }
      ]
    },
    {
      "cell_type": "markdown",
      "source": [
        "9.Create a copy of the list [1, 2, 3, 4, 5] and store it in another variable. Modify the copied list and print both lists."
      ],
      "metadata": {
        "id": "yrtgbXSOwczS"
      }
    },
    {
      "cell_type": "code",
      "source": [
        "original_list = [1, 2, 3, 4, 5]\n",
        "copy_list = original_list.copy()\n",
        "copy_list.append(6)\n",
        "print(original_list)\n",
        "print(copy_list)"
      ],
      "metadata": {
        "colab": {
          "base_uri": "https://localhost:8080/"
        },
        "id": "ZMABi5ehwn3W",
        "outputId": "5bd10a16-4b4f-49ab-d23f-da2ae89fdf08"
      },
      "execution_count": null,
      "outputs": [
        {
          "output_type": "stream",
          "name": "stdout",
          "text": [
            "[1, 2, 3, 4, 5]\n",
            "[1, 2, 3, 4, 5, 6]\n"
          ]
        }
      ]
    },
    {
      "cell_type": "markdown",
      "source": [
        "10.Clear all elements from a list [“hello”, “world”, “python”] using the clear() method."
      ],
      "metadata": {
        "id": "xCDmcmEMxn0F"
      }
    },
    {
      "cell_type": "code",
      "source": [
        "words = [\"hello\", \"world\", \"python\"]\n",
        "words.clear()\n",
        "print(words)"
      ],
      "metadata": {
        "colab": {
          "base_uri": "https://localhost:8080/"
        },
        "id": "C200O1T-xwVN",
        "outputId": "d0012e44-4c30-413f-a667-e331aaa662f3"
      },
      "execution_count": null,
      "outputs": [
        {
          "output_type": "stream",
          "name": "stdout",
          "text": [
            "[]\n"
          ]
        }
      ]
    },
    {
      "cell_type": "markdown",
      "source": [
        "**Tuple-Based Questions**\n",
        "\n",
        "11.Create a tuple with 5 different fruits and print the third fruit.\n"
      ],
      "metadata": {
        "id": "YM4qJkD8yM_m"
      }
    },
    {
      "cell_type": "code",
      "source": [
        "fruits_tuples = (\"kiwi\", \"pineapple\", \"blackberry\", \"cherry\",\"grapefruit\")\n",
        "print(fruits_tuples[2])"
      ],
      "metadata": {
        "colab": {
          "base_uri": "https://localhost:8080/"
        },
        "id": "-pB_K9iszG27",
        "outputId": "9a965b9d-bba4-4f97-ae46-7f048c6c63bc"
      },
      "execution_count": null,
      "outputs": [
        {
          "output_type": "stream",
          "name": "stdout",
          "text": [
            "blackberry\n"
          ]
        }
      ]
    },
    {
      "cell_type": "markdown",
      "source": [
        "12.Convert the tuple (10, 20, 30, 40, 50) into a list, remove the number 30, and convert it back into a tuple."
      ],
      "metadata": {
        "id": "WvMjNWD40sGo"
      }
    },
    {
      "cell_type": "code",
      "source": [
        "num_tuple = (10, 20, 30, 40, 50)\n",
        "num_list = list(num_tuple)\n",
        "num_list.remove(30)\n",
        "num_tuple = tuple(num_list)\n",
        "print(num_tuple)"
      ],
      "metadata": {
        "colab": {
          "base_uri": "https://localhost:8080/"
        },
        "id": "Z94o-BMC0zw0",
        "outputId": "fa75071c-0b58-4509-c495-3ff7c526d56d"
      },
      "execution_count": null,
      "outputs": [
        {
          "output_type": "stream",
          "name": "stdout",
          "text": [
            "(10, 20, 40, 50)\n"
          ]
        }
      ]
    },
    {
      "cell_type": "markdown",
      "source": [
        "13.Try to append an element to the tuple (“A”, “B”, “C”). What happens? How can you modify a tuple indirectly?"
      ],
      "metadata": {
        "id": "PnARe9G5105K"
      }
    },
    {
      "cell_type": "code",
      "source": [
        "tuple_element = (\"A\", \"B\", \"C\")\n",
        "lst = list(tuple_element)   #convert to list\n",
        "lst.append(\"D\")    #Add new element\n",
        "tuple_element = tuple(lst)   #convert back to tuple\n",
        "print(tuple_element)\n"
      ],
      "metadata": {
        "colab": {
          "base_uri": "https://localhost:8080/"
        },
        "id": "HK8CS7W419q0",
        "outputId": "4006cbc4-2344-4bbf-d6da-0c297719a571"
      },
      "execution_count": null,
      "outputs": [
        {
          "output_type": "stream",
          "name": "stdout",
          "text": [
            "('A', 'B', 'C', 'D')\n"
          ]
        }
      ]
    },
    {
      "cell_type": "markdown",
      "source": [
        "14.Unpack the tuple (100, 200, 300) into three separate variables and print them."
      ],
      "metadata": {
        "id": "2_HtRJmy390A"
      }
    },
    {
      "cell_type": "code",
      "source": [
        "tup = (100, 200, 300)\n",
        "a, b, c = tup\n",
        "print(a, b, c)"
      ],
      "metadata": {
        "colab": {
          "base_uri": "https://localhost:8080/"
        },
        "id": "5fT_xSJW4DdZ",
        "outputId": "f7dab75f-ae9e-4150-c5a4-ea1bf6f84d67"
      },
      "execution_count": null,
      "outputs": [
        {
          "output_type": "stream",
          "name": "stdout",
          "text": [
            "100 200 300\n"
          ]
        }
      ]
    },
    {
      "cell_type": "markdown",
      "source": [
        "15.Count the occurrences of 7 in the tuple (7, 1, 7, 3, 7, 5)."
      ],
      "metadata": {
        "id": "hMNSxehz43wL"
      }
    },
    {
      "cell_type": "code",
      "source": [
        "count_tuple = (7, 1, 7, 3, 7, 5)\n",
        "print(count_tuple.count(7))"
      ],
      "metadata": {
        "colab": {
          "base_uri": "https://localhost:8080/"
        },
        "id": "d8r8OKwA47ax",
        "outputId": "caef5bd1-15ce-4e97-d16b-b85eba7e6c8d"
      },
      "execution_count": null,
      "outputs": [
        {
          "output_type": "stream",
          "name": "stdout",
          "text": [
            "3\n"
          ]
        }
      ]
    },
    {
      "cell_type": "markdown",
      "source": [
        "**Advanced Problems**\n",
        "\n",
        "16.Write a function that takes a list and returns a new list with all even numbers removed.\n"
      ],
      "metadata": {
        "id": "WS6oL3WHYR1h"
      }
    },
    {
      "cell_type": "code",
      "source": [
        "def remove_even_numbers(list):\n",
        "  return [num for num in list if num % 2 != 0]\n",
        "\n",
        "numbers = [1, 2, 3, 4, 5, 6, 7, 8, 9, 10]\n",
        "print(remove_even_numbers(numbers))"
      ],
      "metadata": {
        "colab": {
          "base_uri": "https://localhost:8080/"
        },
        "id": "X3JjN4Yj8V3Q",
        "outputId": "e5560311-4125-4fb6-db84-6bb733a67127"
      },
      "execution_count": null,
      "outputs": [
        {
          "output_type": "stream",
          "name": "stdout",
          "text": [
            "[1, 3, 5, 7, 9]\n"
          ]
        }
      ]
    },
    {
      "cell_type": "markdown",
      "source": [
        "17.Create a function that accepts a list and returns a new list with elements sorted in descending order without using the sort() method."
      ],
      "metadata": {
        "id": "nDzK2Wdg92TH"
      }
    },
    {
      "cell_type": "code",
      "source": [
        "def descending_sort(list):\n",
        "  return sorted(list, reverse=True)\n",
        "\n",
        "numbers = [7, 8, 1, 4, 5]\n",
        "print(descending_sort(numbers))"
      ],
      "metadata": {
        "colab": {
          "base_uri": "https://localhost:8080/"
        },
        "id": "c4IsFcPF99BC",
        "outputId": "013097ea-cc25-43d5-d572-22f8be68937a"
      },
      "execution_count": null,
      "outputs": [
        {
          "output_type": "stream",
          "name": "stdout",
          "text": [
            "[8, 7, 5, 4, 1]\n"
          ]
        }
      ]
    },
    {
      "cell_type": "markdown",
      "source": [
        "18.Given a list of numbers, write a program to remove all duplicate elements and print the unique elements."
      ],
      "metadata": {
        "id": "V5I3ahtKB1VZ"
      }
    },
    {
      "cell_type": "code",
      "source": [
        "def remove_duplicates(lst):\n",
        "  return list(set(lst))\n",
        "\n",
        "num_list = [1, 2, 2, 3, 4, 4, 5]\n",
        "print(remove_duplicates(num_list))"
      ],
      "metadata": {
        "colab": {
          "base_uri": "https://localhost:8080/"
        },
        "id": "tLXR9ctwB-vz",
        "outputId": "557b1408-060b-4b75-f418-600e3428539c"
      },
      "execution_count": null,
      "outputs": [
        {
          "output_type": "stream",
          "name": "stdout",
          "text": [
            "[1, 2, 3, 4, 5]\n"
          ]
        }
      ]
    },
    {
      "cell_type": "markdown",
      "source": [
        "19.Given a tuple of names (“Alice”, “Bob”, “Charlie”, “Alice”, “David”), convert it into a list, remove duplicates, and convert it back to a tuple."
      ],
      "metadata": {
        "id": "Dzc6Xu44Ebvi"
      }
    },
    {
      "cell_type": "code",
      "source": [
        "names_tuple = (\"Alice\", \"Bob\", \"Charlie\", \"Alice\", \"David\")\n",
        "names_list = list(set(names_tuple))\n",
        "names_tuple = tuple(names_list)\n",
        "print(names_tuple)"
      ],
      "metadata": {
        "colab": {
          "base_uri": "https://localhost:8080/"
        },
        "id": "bluTu50pEyc6",
        "outputId": "dc7cf4bc-ae10-462f-aabe-3b8484fef382"
      },
      "execution_count": null,
      "outputs": [
        {
          "output_type": "stream",
          "name": "stdout",
          "text": [
            "('Bob', 'David', 'Alice', 'Charlie')\n"
          ]
        }
      ]
    },
    {
      "cell_type": "markdown",
      "source": [
        "20.Create a program that takes a list of mixed data types (int, str, float) and separates integers into one list, strings into another, and floats into another."
      ],
      "metadata": {
        "id": "m26H60STGS2L"
      }
    },
    {
      "cell_type": "code",
      "source": [
        "def separate_types(mixed_list):\n",
        "  int_list = [x for x in mixed_list if isinstance(x, int)]\n",
        "  str_list = [x for x in mixed_list if isinstance(x, str)]\n",
        "  float_list = [x for x in mixed_list if isinstance(x, float)]\n",
        "  return int_list, str_list, float_list\n",
        "\n",
        "mixed_data = [1, \"hello\", 2.5, 3, \"world\", 4.0, \"Python\", 5]\n",
        "integers, strings, floats = separate_types(mixed_data)\n",
        "print(integers)\n",
        "print(strings)\n",
        "print(floats)"
      ],
      "metadata": {
        "colab": {
          "base_uri": "https://localhost:8080/"
        },
        "id": "JEUadCaAGZzU",
        "outputId": "f002edd3-4876-4d91-a0f8-2b48af2c8e58"
      },
      "execution_count": null,
      "outputs": [
        {
          "output_type": "stream",
          "name": "stdout",
          "text": [
            "[1, 3, 5]\n",
            "['hello', 'world', 'Python']\n",
            "[2.5, 4.0]\n"
          ]
        }
      ]
    }
  ]
}